{
 "cells": [
  {
   "cell_type": "code",
   "execution_count": 3,
   "id": "9334da15",
   "metadata": {},
   "outputs": [],
   "source": [
    "import os\n",
    "import numpy as np\n",
    "import matplotlib.pyplot as plt\n",
    "import matplotlib.patches as mpatches\n",
    "from matplotlib.colors import LinearSegmentedColormap\n",
    "import matplotlib.ticker as ticker"
   ]
  },
  {
   "cell_type": "code",
   "execution_count": 34,
   "id": "67f00743",
   "metadata": {},
   "outputs": [],
   "source": [
    "def meshes_plot_thickness_map(thickness_map, filtered_z_coords,time, output_folder):\n",
    "    \"\"\"\n",
    "    Plot the radial thickness map with a custom colormap, transparent background, \n",
    "    and no colorbar or title.\n",
    "    \"\"\"\n",
    "    mean_thick = np.nanmean(thickness_map)\n",
    "    std_thick = np.nanstd(thickness_map)\n",
    "\n",
    "    invalid_mask = (thickness_map < mean_thick - 5 * std_thick) | np.isnan(thickness_map)\n",
    "    valid_thickness = np.ma.masked_where(invalid_mask, thickness_map)\n",
    "\n",
    "    colors = [\"#00aee7\", \"#fff6eb\", \"#ff164d\"]\n",
    "    cmap = LinearSegmentedColormap.from_list('custom', colors, N=256)\n",
    "    cmap.set_bad(color='black', alpha=0.8)\n",
    "\n",
    "    plt.figure(figsize=(12, 8))\n",
    "    im = plt.imshow(\n",
    "        valid_thickness, aspect='auto', cmap=cmap,\n",
    "        extent=[0, 360, filtered_z_coords[-1], filtered_z_coords[0]],\n",
    "        vmin=3, vmax=19\n",
    "    )\n",
    "\n",
    "    plt.xlabel(\"Azimuthal Angle\", fontsize=12, fontweight='bold')\n",
    "    plt.ylabel(\"Z Height (mm)\", fontsize=12, fontweight='bold')\n",
    "\n",
    "    ticks = np.arange(0, 370, 40)\n",
    "    plt.xticks(ticks, fontsize=11)\n",
    "    plt.yticks(fontsize=11)\n",
    "    plt.gca().xaxis.set_major_formatter(\n",
    "        ticker.FuncFormatter(lambda val, pos: f\"{int(val)}°\")\n",
    "    )\n",
    "\n",
    "    # 🔴 Remove colorbar\n",
    "    # (commented out completely)\n",
    "\n",
    "    # 🔴 Remove title\n",
    "    # (no plt.title)\n",
    "\n",
    "    plt.gca().invert_yaxis()\n",
    "\n",
    "    for spine in plt.gca().spines.values():\n",
    "        spine.set_edgecolor('black')\n",
    "        spine.set_linewidth(1.2)\n",
    "\n",
    "    plt.tight_layout()\n",
    "\n",
    "    # 🔴 Save with transparent background\n",
    "    plt.savefig(\n",
    "        os.path.join(output_folder, f\"thickness_map_{time}.pdf\"),\n",
    "        dpi=300, transparent=True\n",
    "    )\n",
    "    plt.savefig(\n",
    "        os.path.join(output_folder, f\"thickness_map_{time}.svg\"),\n",
    "        transparent=True\n",
    "    )\n",
    "    plt.close()"
   ]
  },
  {
   "cell_type": "code",
   "execution_count": 37,
   "id": "21e8b261",
   "metadata": {},
   "outputs": [],
   "source": [
    "time = 0\n",
    "\n",
    "z_coords = np.load(f\"/data.lfpn/ibraun/Code/paper_volume_calculation/outputs_patient_data/final_results/SCD0003701/mesh_analysis_data/thickness/filtered_z_coords_{time}.npy\")\n",
    "thickness_map = np.load(f\"/data.lfpn/ibraun/Code/paper_volume_calculation/outputs_patient_data/final_results/SCD0003701/mesh_analysis_data/thickness/thickness_map_{time}.npy\")  # fixed typo: used f-string correctly\n",
    "\n",
    "output_folder = \"/data.lfpn/ibraun/Code/paper_volume_calculation/Graphics\"\n",
    "\n",
    "meshes_plot_thickness_map(thickness_map, z_coords,time, output_folder)"
   ]
  }
 ],
 "metadata": {
  "kernelspec": {
   "display_name": "lvmeshfitting",
   "language": "python",
   "name": "python3"
  },
  "language_info": {
   "codemirror_mode": {
    "name": "ipython",
    "version": 3
   },
   "file_extension": ".py",
   "mimetype": "text/x-python",
   "name": "python",
   "nbconvert_exporter": "python",
   "pygments_lexer": "ipython3",
   "version": "3.8.19"
  }
 },
 "nbformat": 4,
 "nbformat_minor": 5
}
